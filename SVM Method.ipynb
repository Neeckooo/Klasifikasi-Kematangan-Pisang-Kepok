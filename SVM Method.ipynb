{
 "cells": [
  {
   "cell_type": "code",
   "execution_count": 13,
   "metadata": {},
   "outputs": [],
   "source": [
    "import os\n",
    "import cv2\n",
    "import numpy as np\n",
    "import pandas as pd\n",
    "from skimage.feature import hog\n",
    "from sklearn.preprocessing import LabelEncoder\n",
    "from sklearn.model_selection import train_test_split\n",
    "from sklearn.svm import SVC\n",
    "import joblib\n",
    "from sklearn.metrics import classification_report, confusion_matrix, ConfusionMatrixDisplay\n",
    "import matplotlib.pyplot as plt"
   ]
  },
  {
   "cell_type": "code",
   "execution_count": 14,
   "metadata": {},
   "outputs": [],
   "source": [
    "# Fungsi untuk mengekstrak fitur HOG dari gambar\n",
    "def extract_hog_features(image_path, resize_dim=(244, 244)):\n",
    "    img = cv2.imread(image_path)\n",
    "    img = cv2.cvtColor(img, cv2.COLOR_BGR2RGB)\n",
    "    img = cv2.resize(img, resize_dim)\n",
    "    hog_features = hog(img, pixels_per_cell=(8, 8), cells_per_block=(2, 2), visualize=False, multichannel=True)\n",
    "    return hog_features"
   ]
  },
  {
   "cell_type": "code",
   "execution_count": 15,
   "metadata": {},
   "outputs": [],
   "source": [
    "# Fungsi untuk memuat dan mengekstrak fitur HOG dari dataset\n",
    "def load_and_extract_features(data_dir, classes, resize_dim=(244, 244)):\n",
    "    X = []\n",
    "    y = []\n",
    "    \n",
    "    for class_name in classes:\n",
    "        class_dir = os.path.join(data_dir, class_name)\n",
    "        for img_name in os.listdir(class_dir):\n",
    "            img_path = os.path.join(class_dir, img_name)\n",
    "            features = extract_hog_features(img_path, resize_dim)\n",
    "            X.append(features)\n",
    "            y.append(class_name)\n",
    "    \n",
    "    return np.array(X), np.array(y)"
   ]
  },
  {
   "cell_type": "code",
   "execution_count": 4,
   "metadata": {},
   "outputs": [],
   "source": [
    "# Path ke direktori dataset\n",
    "dataset_dir = \"./Dataset/1. Resize\"\n",
    "classes = ['Mentah', 'Menuju Matang', 'Matang', 'Terlalu matang', 'Busuk']\n",
    "\n",
    "# Memuat dan mengekstrak fitur HOG dari dataset\n",
    "X, y = load_and_extract_features(dataset_dir, classes)\n",
    "\n",
    "# Menyusun fitur dan label ke dalam DataFrame pandas\n",
    "df = pd.DataFrame(X)\n",
    "df['label'] = y\n",
    "\n",
    "# Simpan DataFrame ke dalam file CSV\n",
    "csv_file = \"./Dataset/Dataset_Pisang_Kepok.csv\"\n",
    "df.to_csv(csv_file, index=False)\n",
    "print(f'Dataset telah disimpan ke dalam file: {csv_file}')"
   ]
  },
  {
   "cell_type": "code",
   "execution_count": 16,
   "metadata": {},
   "outputs": [],
   "source": [
    "# Memuat dan memproses data dari file CSV\n",
    "def load_and_prepare_data(csv_path):\n",
    "    df = pd.read_csv(csv_path)\n",
    "    X = df.iloc[:, :-1].values\n",
    "    y = df['label'].values\n",
    "    label_encoder = LabelEncoder()\n",
    "    y_encoded = label_encoder.fit_transform(y)\n",
    "    return train_test_split(X, y_encoded, test_size=0.2, random_state=42)\n",
    "\n",
    "# Path ke file CSV\n",
    "csv_file = \"./Dataset/Dataset_Pisang_Kepok.csv\"\n",
    "\n",
    "# Memuat dan memproses data dari file CSV\n",
    "X_train, X_test, y_train, y_test = load_and_prepare_data(csv_file)"
   ]
  },
  {
   "cell_type": "code",
   "execution_count": 17,
   "metadata": {},
   "outputs": [],
   "source": [
    "# Fungsi untuk melatih model SVM\n",
    "def train_svm(X_train, y_train):\n",
    "    svm = SVC(kernel='linear', random_state=42)\n",
    "    svm.fit(X_train, y_train)\n",
    "    return svm\n",
    "\n",
    "# Melatih model SVM\n",
    "svm = train_svm(X_train, y_train)"
   ]
  },
  {
   "cell_type": "code",
   "execution_count": 18,
   "metadata": {},
   "outputs": [
    {
     "name": "stdout",
     "output_type": "stream",
     "text": [
      "Model SVM telah disimpan ke: ./Models/SVM_best_model.pkl\n"
     ]
    }
   ],
   "source": [
    "# Fungsi untuk menyimpan model SVM\n",
    "def save_model(model, model_path):\n",
    "    joblib.dump(model, model_path)\n",
    "    print(f'Model SVM telah disimpan ke: {model_path}')\n",
    "\n",
    "# Path ke file model yang akan disimpan\n",
    "model_path = \"./Models/SVM_best_model.pkl\"\n",
    "\n",
    "# Menyimpan model SVM\n",
    "save_model(svm, model_path)"
   ]
  },
  {
   "cell_type": "code",
   "execution_count": 19,
   "metadata": {},
   "outputs": [],
   "source": [
    "# Fungsi untuk memuat model SVM yang telah disimpan\n",
    "def load_model(model_path):\n",
    "    return joblib.load(model_path)\n",
    "\n",
    "# Memuat model SVM yang telah disimpan\n",
    "svm_loaded = load_model(model_path)"
   ]
  },
  {
   "cell_type": "code",
   "execution_count": 20,
   "metadata": {},
   "outputs": [
    {
     "name": "stdout",
     "output_type": "stream",
     "text": [
      "                precision    recall  f1-score   support\n",
      "\n",
      "        Mentah       1.00      1.00      1.00        37\n",
      " Menuju Matang       0.93      0.93      0.93        28\n",
      "        Matang       1.00      1.00      1.00        32\n",
      "Terlalu Matang       0.93      0.93      0.93        29\n",
      "         Busuk       1.00      1.00      1.00        34\n",
      "\n",
      "      accuracy                           0.97       160\n",
      "     macro avg       0.97      0.97      0.97       160\n",
      "  weighted avg       0.97      0.97      0.97       160\n",
      "\n"
     ]
    },
    {
     "data": {
      "image/png": "[encoded data removed]",
      "text/plain": [
       "<Figure size 432x288 with 2 Axes>"
      ]
     },
     "metadata": {
      "needs_background": "light"
     },
     "output_type": "display_data"
    }
   ],
   "source": [
    "# Fungsi untuk mengevaluasi model SVM\n",
    "def evaluate_model(model, X_test, y_test, classes):\n",
    "    y_pred = model.predict(X_test)\n",
    "    print(classification_report(y_test, y_pred, target_names=classes))\n",
    "    cm = confusion_matrix(y_test, y_pred)\n",
    "    disp = ConfusionMatrixDisplay(confusion_matrix=cm, display_labels=classes)\n",
    "    disp.plot(cmap=plt.cm.Blues)\n",
    "    plt.show()\n",
    "\n",
    "# Evaluasi model SVM\n",
    "evaluate_model(svm_loaded, X_test, y_test, classes)"
   ]
  }
 ],
 "metadata": {
  "kernelspec": {
   "display_name": "Python 3",
   "language": "python",
   "name": "python3"
  },
  "language_info": {
   "codemirror_mode": {
    "name": "ipython",
    "version": 3
   },
   "file_extension": ".py",
   "mimetype": "text/x-python",
   "name": "python",
   "nbconvert_exporter": "python",
   "pygments_lexer": "ipython3",
   "version": "3.9.2"
  }
 },
 "nbformat": 4,
 "nbformat_minor": 2
}
