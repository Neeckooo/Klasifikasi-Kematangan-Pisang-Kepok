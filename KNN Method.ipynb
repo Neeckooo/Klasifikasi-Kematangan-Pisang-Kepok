{
 "cells": [
  {
   "cell_type": "code",
   "execution_count": 1,
   "metadata": {},
   "outputs": [],
   "source": [
    "import os\n",
    "import cv2\n",
    "import numpy as np\n",
    "import pandas as pd\n",
    "from skimage.feature import hog\n",
    "from sklearn.preprocessing import LabelEncoder\n",
    "from sklearn.model_selection import train_test_split\n",
    "from sklearn.neighbors import KNeighborsClassifier\n",
    "import joblib\n",
    "from sklearn.metrics import classification_report, confusion_matrix, ConfusionMatrixDisplay, accuracy_score, precision_score, recall_score, f1_score\n",
    "import matplotlib.pyplot as plt"
   ]
  },
  {
   "cell_type": "code",
   "execution_count": 3,
   "metadata": {},
   "outputs": [
    {
     "name": "stderr",
     "output_type": "stream",
     "text": [
      "<ipython-input-3-325cfd8d2704>:8: FutureWarning: `multichannel` is a deprecated argument name for `hog`. It will be removed in version 1.0. Please use `channel_axis` instead.\n",
      "  hog_features = hog(img, pixels_per_cell=(8, 8), cells_per_block=(2, 2), visualize=False, multichannel=True)\n"
     ]
    },
    {
     "name": "stdout",
     "output_type": "stream",
     "text": [
      "Dataset telah disimpan ke dalam file: ./Dataset/Dataset_Pisang_Kepok.csv\n"
     ]
    }
   ],
   "source": [
    "# Memuat dan Menyimpan Data ke CSV\n",
    "\n",
    "# Fungsi untuk mengekstrak fitur HOG dari gambar\n",
    "def extract_hog_features(image_path, resize_dim=(244, 244)):\n",
    "    img = cv2.imread(image_path)\n",
    "    img = cv2.cvtColor(img, cv2.COLOR_BGR2RGB)\n",
    "    img = cv2.resize(img, resize_dim)\n",
    "    hog_features = hog(img, pixels_per_cell=(8, 8), cells_per_block=(2, 2), visualize=False, multichannel=True)\n",
    "    return hog_features\n",
    "\n",
    "# Fungsi untuk memuat dan mengekstrak fitur HOG dari dataset\n",
    "def load_and_extract_features(data_dir, classes, resize_dim=(244, 244)):\n",
    "    X = []\n",
    "    y = []\n",
    "    \n",
    "    for class_name in classes:\n",
    "        class_dir = os.path.join(data_dir, class_name)\n",
    "        for img_name in os.listdir(class_dir):\n",
    "            img_path = os.path.join(class_dir, img_name)\n",
    "            features = extract_hog_features(img_path, resize_dim)\n",
    "            X.append(features)\n",
    "            y.append(class_name)\n",
    "    \n",
    "    return np.array(X), np.array(y)\n",
    "\n",
    "# Path ke direktori dataset\n",
    "dataset_dir = \"D:/kuliah/Tugas Akhir/Code/Klasifikasi Tingkat Kematangan Buah Pisang/Dataset/Default\"\n",
    "classes = ['Mentah', 'Menuju Matang', 'Matang', 'Terlalu matang', 'Busuk']\n",
    "\n",
    "# Memuat dan mengekstrak fitur HOG dari dataset\n",
    "X, y = load_and_extract_features(dataset_dir, classes)\n",
    "\n",
    "# Menyusun fitur dan label ke dalam DataFrame pandas\n",
    "df = pd.DataFrame(X)\n",
    "df['label'] = y\n",
    "\n",
    "# Simpan DataFrame ke dalam file CSV\n",
    "csv_file = \"./Dataset/Dataset_Pisang_Kepok.csv\"\n",
    "df.to_csv(csv_file, index=False)\n",
    "\n",
    "print(f'Dataset telah disimpan ke dalam file: {csv_file}')"
   ]
  },
  {
   "cell_type": "code",
   "execution_count": 22,
   "metadata": {},
   "outputs": [],
   "source": [
    "# Memuat Data dari CSV dan Menyiapkan Data untuk KNN\n",
    "\n",
    "# Fungsi untuk memuat dan memproses data dari CSV\n",
    "def load_and_prepare_data(csv_path):\n",
    "    df = pd.read_csv(csv_path)\n",
    "    X = df.iloc[:, :-1].values\n",
    "    y = df['label'].values\n",
    "    label_encoder = LabelEncoder()\n",
    "    y_encoded = label_encoder.fit_transform(y)\n",
    "    return train_test_split(X, y_encoded, test_size=0.2, random_state=42)\n",
    "\n",
    "# Path ke file CSV\n",
    "csv_file = \"./Dataset/Dataset_Pisang_Kepok.csv\"\n",
    "\n",
    "# Memuat dan memproses data dari file CSV\n",
    "X_train, X_test, y_train, y_test = load_and_prepare_data(csv_file)"
   ]
  },
  {
   "cell_type": "code",
   "execution_count": 23,
   "metadata": {},
   "outputs": [],
   "source": [
    "# Melatih Model KNN\n",
    "\n",
    "# Fungsi untuk melatih model KNN\n",
    "def train_knn(X_train, y_train, n_neighbors=6):\n",
    "    knn = KNeighborsClassifier(n_neighbors=n_neighbors)\n",
    "    knn.fit(X_train, y_train)\n",
    "    return knn\n",
    "\n",
    "# Melatih model KNN\n",
    "knn = train_knn(X_train, y_train, n_neighbors=6)"
   ]
  },
  {
   "cell_type": "code",
   "execution_count": 24,
   "metadata": {},
   "outputs": [
    {
     "name": "stdout",
     "output_type": "stream",
     "text": [
      "Model telah disimpan ke: ./Models/KNN_best_model.pkl\n"
     ]
    }
   ],
   "source": [
    "# Menyimpan Model KNN\n",
    "\n",
    "# Fungsi untuk menyimpan model KNN\n",
    "def save_model(model, model_path):\n",
    "    joblib.dump(model, model_path)\n",
    "    print(f'Model telah disimpan ke: {model_path}')\n",
    "\n",
    "# Path ke file model yang akan disimpan\n",
    "model_path = \"./Models/KNN_best_model.pkl\"\n",
    "\n",
    "# Menyimpan model KNN\n",
    "save_model(knn, model_path)"
   ]
  },
  {
   "cell_type": "code",
   "execution_count": 25,
   "metadata": {},
   "outputs": [],
   "source": [
    "# Memuat Model KNN yang Telah Disimpan\n",
    "\n",
    "# Fungsi untuk memuat model KNN yang telah disimpan\n",
    "def load_model(model_path):\n",
    "    return joblib.load(model_path)\n",
    "\n",
    "# Memuat model KNN yang telah disimpan\n",
    "knn_loaded = load_model(model_path)"
   ]
  },
  {
   "cell_type": "code",
   "execution_count": 26,
   "metadata": {},
   "outputs": [
    {
     "name": "stdout",
     "output_type": "stream",
     "text": [
      "                precision    recall  f1-score   support\n",
      "\n",
      "        Mentah       1.00      1.00      1.00        37\n",
      " Menuju Matang       0.86      0.86      0.86        28\n",
      "        Matang       0.97      1.00      0.98        32\n",
      "Terlalu matang       0.90      0.90      0.90        29\n",
      "         Busuk       1.00      0.97      0.99        34\n",
      "\n",
      "      accuracy                           0.95       160\n",
      "     macro avg       0.94      0.94      0.94       160\n",
      "  weighted avg       0.95      0.95      0.95       160\n",
      "\n"
     ]
    },
    {
     "data": {
      "image/png": "[encoded data removed]",
      "text/plain": [
       "<Figure size 432x288 with 2 Axes>"
      ]
     },
     "metadata": {
      "needs_background": "light"
     },
     "output_type": "display_data"
    }
   ],
   "source": [
    "# Evaluasi Model KNN\n",
    "\n",
    "# Fungsi untuk mengevaluasi model KNN\n",
    "def evaluate_model(model, X_test, y_test, classes):\n",
    "    y_pred = model.predict(X_test)\n",
    "    print(classification_report(y_test, y_pred, target_names=classes))\n",
    "    cm = confusion_matrix(y_test, y_pred)\n",
    "    disp = ConfusionMatrixDisplay(confusion_matrix=cm, display_labels=classes)\n",
    "    disp.plot(cmap=plt.cm.Blues)\n",
    "    plt.show()\n",
    "\n",
    "# Evaluasi model KNN\n",
    "evaluate_model(knn_loaded, X_test, y_test, classes)"
   ]
  },
  {
   "cell_type": "code",
   "execution_count": null,
   "metadata": {},
   "outputs": [],
   "source": []
  }
 ],
 "metadata": {
  "kernelspec": {
   "display_name": "Python 3",
   "language": "python",
   "name": "python3"
  },
  "language_info": {
   "codemirror_mode": {
    "name": "ipython",
    "version": 3
   },
   "file_extension": ".py",
   "mimetype": "text/x-python",
   "name": "python",
   "nbconvert_exporter": "python",
   "pygments_lexer": "ipython3",
   "version": "3.9.2"
  }
 },
 "nbformat": 4,
 "nbformat_minor": 2
}
