{
 "cells": [
  {
   "cell_type": "markdown",
   "metadata": {},
   "source": [
    "**PreProcessing**"
   ]
  },
  {
   "cell_type": "markdown",
   "metadata": {},
   "source": [
    "**1. Resize**"
   ]
  },
  {
   "cell_type": "code",
   "execution_count": 5,
   "metadata": {},
   "outputs": [
    {
     "name": "stdout",
     "output_type": "stream",
     "text": [
      "Jumlah gambar dalam folder ./Dataset/for CNN/train\\Busuk: 111\n",
      "Jumlah gambar yang diresize untuk kelas Busuk: 111 dari 111\n",
      "Jumlah gambar dalam folder ./Dataset/for CNN/train\\Matang: 112\n",
      "Jumlah gambar yang diresize untuk kelas Matang: 112 dari 112\n",
      "Jumlah gambar dalam folder ./Dataset/for CNN/train\\Mentah: 112\n",
      "Jumlah gambar yang diresize untuk kelas Mentah: 112 dari 112\n",
      "Jumlah gambar dalam folder ./Dataset/for CNN/train\\Menuju Matang: 112\n",
      "Jumlah gambar yang diresize untuk kelas Menuju Matang: 112 dari 112\n",
      "Jumlah gambar dalam folder ./Dataset/for CNN/train\\Terlalu Matang: 112\n",
      "Jumlah gambar yang diresize untuk kelas Terlalu Matang: 112 dari 112\n"
     ]
    }
   ],
   "source": [
    "from PIL import Image\n",
    "import os\n",
    "\n",
    "# Path folder yang berisi 5 kelas\n",
    "parent_folder_path = \"./Dataset/for CNN/train\"\n",
    "\n",
    "# Path folder untuk menyimpan gambar yang sudah diresize\n",
    "output_folder = \"./Dataset/for CNN/train 80\"\n",
    "if not os.path.exists(output_folder):\n",
    "    os.makedirs(output_folder)\n",
    "\n",
    "# Loop melalui setiap subfolder (kelas) dalam parent folder\n",
    "for class_name in os.listdir(parent_folder_path):\n",
    "    class_folder_path = os.path.join(parent_folder_path, class_name)\n",
    "    if os.path.isdir(class_folder_path):\n",
    "        # Membuat folder untuk kelas di dalam folder Resize\n",
    "        class_output_folder = os.path.join(output_folder, class_name)\n",
    "        if not os.path.exists(class_output_folder):\n",
    "            os.makedirs(class_output_folder)\n",
    "\n",
    "        # Memeriksa jumlah gambar sebelum resizing\n",
    "        num_images_before = len(os.listdir(class_folder_path))\n",
    "        print(f\"Jumlah gambar dalam folder {class_folder_path}: {num_images_before}\")\n",
    "\n",
    "        # Loop melalui semua file dalam folder kelas\n",
    "        for file_name in os.listdir(class_folder_path):\n",
    "            if file_name.endswith((\".jpg\", \".jpeg\", \".png\", \".JPG\")):\n",
    "                image_path = os.path.join(class_folder_path, file_name)\n",
    "\n",
    "                # Load gambar\n",
    "                original_image = Image.open(image_path)\n",
    "\n",
    "                # Resize gambar\n",
    "                resized_image = original_image.resize((80, 80))\n",
    "\n",
    "                # Simpan gambar yang sudah diresize\n",
    "                output_path = os.path.join(class_output_folder, file_name)\n",
    "                resized_image.save(output_path)\n",
    "\n",
    "        # Memeriksa jumlah gambar setelah resizing\n",
    "        num_images_after = len(os.listdir(class_output_folder))\n",
    "        print(f\"Jumlah gambar yang diresize untuk kelas {class_name}: {num_images_after} dari {num_images_before}\")\n"
   ]
  },
  {
   "cell_type": "markdown",
   "metadata": {},
   "source": [
    "**2. Rotation**"
   ]
  },
  {
   "cell_type": "code",
   "execution_count": 2,
   "metadata": {},
   "outputs": [
    {
     "name": "stdout",
     "output_type": "stream",
     "text": [
      "Augmentasi kelas: Busuk\n"
     ]
    },
    {
     "name": "stderr",
     "output_type": "stream",
     "text": [
      "Kelas: Busuk: 100%|██████████| 159/159 [00:02<00:00, 75.27it/s]\n"
     ]
    },
    {
     "name": "stdout",
     "output_type": "stream",
     "text": [
      "Augmentasi kelas: Matang\n"
     ]
    },
    {
     "name": "stderr",
     "output_type": "stream",
     "text": [
      "Kelas: Matang: 100%|██████████| 160/160 [00:02<00:00, 68.44it/s]\n"
     ]
    },
    {
     "name": "stdout",
     "output_type": "stream",
     "text": [
      "Augmentasi kelas: Mentah\n"
     ]
    },
    {
     "name": "stderr",
     "output_type": "stream",
     "text": [
      "Kelas: Mentah: 100%|██████████| 160/160 [00:02<00:00, 68.19it/s]\n"
     ]
    },
    {
     "name": "stdout",
     "output_type": "stream",
     "text": [
      "Augmentasi kelas: Menuju Matang\n"
     ]
    },
    {
     "name": "stderr",
     "output_type": "stream",
     "text": [
      "Kelas: Menuju Matang: 100%|██████████| 160/160 [00:02<00:00, 64.27it/s]\n"
     ]
    },
    {
     "name": "stdout",
     "output_type": "stream",
     "text": [
      "Augmentasi kelas: Terlalu Matang\n"
     ]
    },
    {
     "name": "stderr",
     "output_type": "stream",
     "text": [
      "Kelas: Terlalu Matang: 100%|██████████| 160/160 [00:02<00:00, 69.17it/s]\n"
     ]
    }
   ],
   "source": [
    "import os\n",
    "import cv2\n",
    "import numpy as np\n",
    "from tensorflow.keras.preprocessing.image import ImageDataGenerator\n",
    "from tqdm import tqdm\n",
    "\n",
    "# Fungsi untuk melakukan rotasi pada gambar\n",
    "def rotate_image(image, angle):\n",
    "    (h, w) = image.shape[:2]\n",
    "    center = (w // 2, h // 2)\n",
    "    M = cv2.getRotationMatrix2D(center, angle, 1.0)\n",
    "    rotated_image = cv2.warpAffine(image, M, (w, h))\n",
    "    return rotated_image\n",
    "\n",
    "# Fungsi untuk melakukan augmentasi rotasi pada dataset\n",
    "def augment_dataset_with_rotation(input_folder, output_folder, angles=[30, 60, 90, 120, 150]):\n",
    "    # Pastikan folder output ada atau buat jika belum ada\n",
    "    if not os.path.exists(output_folder):\n",
    "        os.makedirs(output_folder)\n",
    "    \n",
    "    # Daftar nama kelas\n",
    "    classes = os.listdir(input_folder)\n",
    "    \n",
    "    # Loop untuk setiap kelas\n",
    "    for class_name in classes:\n",
    "        print(f\"Augmentasi kelas: {class_name}\")\n",
    "        class_folder = os.path.join(input_folder, class_name)\n",
    "        output_class_folder = os.path.join(output_folder, class_name)\n",
    "        \n",
    "        # Buat folder kelas di folder output jika belum ada\n",
    "        if not os.path.exists(output_class_folder):\n",
    "            os.makedirs(output_class_folder)\n",
    "        \n",
    "        # Daftar semua gambar di folder kelas\n",
    "        images = os.listdir(class_folder)\n",
    "        \n",
    "        # Loop untuk setiap gambar\n",
    "        for img_name in tqdm(images, desc=f\"Kelas: {class_name}\", position=0, leave=True):\n",
    "            # Baca gambar\n",
    "            img_path = os.path.join(class_folder, img_name)\n",
    "            img = cv2.imread(img_path)\n",
    "            \n",
    "            # Simpan gambar asli\n",
    "            output_img_path = os.path.join(output_class_folder, img_name)\n",
    "            cv2.imwrite(output_img_path, img)\n",
    "            \n",
    "            # Augmentasi dengan rotasi\n",
    "            for angle in angles:\n",
    "                rotated_img = rotate_image(img, angle)\n",
    "                output_img_name = os.path.splitext(img_name)[0] + f\"_rotated_{angle}.jpg\"\n",
    "                output_img_path = os.path.join(output_class_folder, output_img_name)\n",
    "                \n",
    "                # Simpan gambar yang dirotasi\n",
    "                cv2.imwrite(output_img_path, rotated_img)\n",
    "\n",
    "# Path ke folder dataset asli dan folder output\n",
    "input_folder = './Dataset/1. Resize'\n",
    "output_folder = './Dataset/3. Rotation'\n",
    "\n",
    "# Panggil fungsi untuk melakukan augmentasi rotasi\n",
    "augment_dataset_with_rotation(input_folder, output_folder)"
   ]
  },
  {
   "cell_type": "markdown",
   "metadata": {},
   "source": [
    "**3. Saturation**"
   ]
  },
  {
   "cell_type": "code",
   "execution_count": 9,
   "metadata": {},
   "outputs": [
    {
     "name": "stdout",
     "output_type": "stream",
     "text": [
      "Augmentasi kelas: Busuk\n"
     ]
    },
    {
     "name": "stderr",
     "output_type": "stream",
     "text": [
      "Kelas: Busuk: 100%|██████████| 111/111 [00:02<00:00, 48.81it/s]\n"
     ]
    },
    {
     "name": "stdout",
     "output_type": "stream",
     "text": [
      "Augmentasi kelas: Matang\n"
     ]
    },
    {
     "name": "stderr",
     "output_type": "stream",
     "text": [
      "Kelas: Matang: 100%|██████████| 112/112 [00:01<00:00, 62.90it/s]\n"
     ]
    },
    {
     "name": "stdout",
     "output_type": "stream",
     "text": [
      "Augmentasi kelas: Mentah\n"
     ]
    },
    {
     "name": "stderr",
     "output_type": "stream",
     "text": [
      "Kelas: Mentah: 100%|██████████| 112/112 [00:02<00:00, 45.96it/s]\n"
     ]
    },
    {
     "name": "stdout",
     "output_type": "stream",
     "text": [
      "Augmentasi kelas: Menuju Matang\n"
     ]
    },
    {
     "name": "stderr",
     "output_type": "stream",
     "text": [
      "Kelas: Menuju Matang: 100%|██████████| 112/112 [00:02<00:00, 40.63it/s]\n"
     ]
    },
    {
     "name": "stdout",
     "output_type": "stream",
     "text": [
      "Augmentasi kelas: Terlalu Matang\n"
     ]
    },
    {
     "name": "stderr",
     "output_type": "stream",
     "text": [
      "Kelas: Terlalu Matang: 100%|██████████| 112/112 [00:02<00:00, 53.94it/s]\n"
     ]
    }
   ],
   "source": [
    "import os\n",
    "import cv2\n",
    "import numpy as np\n",
    "from tqdm import tqdm\n",
    "\n",
    "# Fungsi untuk menyesuaikan saturasi gambar\n",
    "def adjust_saturation(image, saturation_scale):\n",
    "    # Convert the image to HSV color space\n",
    "    hsv_image = cv2.cvtColor(image, cv2.COLOR_RGB2HSV)\n",
    "    \n",
    "    # Scale the saturation channel\n",
    "    hsv_image[:, :, 1] = hsv_image[:, :, 1] * saturation_scale\n",
    "    \n",
    "    # Ensure values are within [0, 255]\n",
    "    hsv_image[:, :, 1] = np.clip(hsv_image[:, :, 1], 0, 255)\n",
    "    \n",
    "    # Convert back to RGB color space\n",
    "    adjusted_image = cv2.cvtColor(hsv_image, cv2.COLOR_HSV2RGB)\n",
    "    \n",
    "    return adjusted_image\n",
    "\n",
    "# Fungsi untuk melakukan augmentasi saturasi pada dataset\n",
    "def augment_dataset_with_saturation(input_folder, output_folder, desaturation_scale=0.5, saturation_scale=1.5):\n",
    "    # Pastikan folder output ada atau buat jika belum ada\n",
    "    if not os.path.exists(output_folder):\n",
    "        os.makedirs(output_folder)\n",
    "    \n",
    "    # Daftar nama kelas\n",
    "    classes = os.listdir(input_folder)\n",
    "    \n",
    "    # Loop untuk setiap kelas\n",
    "    for class_name in classes:\n",
    "        print(f\"Augmentasi kelas: {class_name}\")\n",
    "        class_folder = os.path.join(input_folder, class_name)\n",
    "        output_class_folder = os.path.join(output_folder, class_name)\n",
    "        \n",
    "        # Buat folder kelas di folder output jika belum ada\n",
    "        if not os.path.exists(output_class_folder):\n",
    "            os.makedirs(output_class_folder)\n",
    "        \n",
    "        # Daftar semua gambar di folder kelas\n",
    "        images = os.listdir(class_folder)\n",
    "        \n",
    "        # Loop untuk setiap gambar\n",
    "        for img_name in tqdm(images, desc=f\"Kelas: {class_name}\", position=0, leave=True):\n",
    "            # Baca gambar\n",
    "            img_path = os.path.join(class_folder, img_name)\n",
    "            img = cv2.imread(img_path)\n",
    "            img = cv2.cvtColor(img, cv2.COLOR_BGR2RGB)  # Konversi BGR ke RGB\n",
    "            \n",
    "            # Simpan gambar asli\n",
    "            output_img_path = os.path.join(output_class_folder, img_name)\n",
    "            cv2.imwrite(output_img_path, cv2.cvtColor(img, cv2.COLOR_RGB2BGR))\n",
    "            \n",
    "            # Augmentasi dengan mengurangi saturasi\n",
    "            desaturated_img = adjust_saturation(img, desaturation_scale)\n",
    "            output_img_name = os.path.splitext(img_name)[0] + f\"_desaturated.jpg\"\n",
    "            output_img_path = os.path.join(output_class_folder, output_img_name)\n",
    "            \n",
    "            # Simpan gambar yang telah dikurangi saturasinya\n",
    "            cv2.imwrite(output_img_path, cv2.cvtColor(desaturated_img, cv2.COLOR_RGB2BGR))\n",
    "            \n",
    "            # Augmentasi dengan meningkatkan saturasi\n",
    "            saturated_img = adjust_saturation(img, saturation_scale)\n",
    "            output_img_name = os.path.splitext(img_name)[0] + f\"_saturated.jpg\"\n",
    "            output_img_path = os.path.join(output_class_folder, output_img_name)\n",
    "            \n",
    "            # Simpan gambar yang telah ditingkatkan saturasinya\n",
    "            cv2.imwrite(output_img_path, cv2.cvtColor(saturated_img, cv2.COLOR_RGB2BGR))\n",
    "\n",
    "# Path ke folder dataset asli dan folder output\n",
    "input_folder = './Dataset/for CNN/train 224'  \n",
    "output_folder = './Dataset/for CNN/Saturasi 224'  \n",
    "\n",
    "# Panggil fungsi untuk melakukan augmentasi saturasi\n",
    "augment_dataset_with_saturation(input_folder, output_folder)\n"
   ]
  },
  {
   "cell_type": "markdown",
   "metadata": {},
   "source": [
    "**4. Splitted CNN**"
   ]
  },
  {
   "cell_type": "code",
   "execution_count": 1,
   "metadata": {},
   "outputs": [
    {
     "name": "stdout",
     "output_type": "stream",
     "text": [
      "Memproses kelas: Busuk\n",
      "Kelas Busuk dibagi menjadi 111 gambar untuk train, 32 gambar untuk val, dan 16 gambar untuk test.\n",
      "Memproses kelas: Matang\n",
      "Kelas Matang dibagi menjadi 112 gambar untuk train, 32 gambar untuk val, dan 16 gambar untuk test.\n",
      "Memproses kelas: Mentah\n",
      "Kelas Mentah dibagi menjadi 112 gambar untuk train, 32 gambar untuk val, dan 16 gambar untuk test.\n",
      "Memproses kelas: Menuju Matang\n",
      "Kelas Menuju Matang dibagi menjadi 112 gambar untuk train, 32 gambar untuk val, dan 16 gambar untuk test.\n",
      "Memproses kelas: Terlalu Matang\n",
      "Kelas Terlalu Matang dibagi menjadi 112 gambar untuk train, 32 gambar untuk val, dan 16 gambar untuk test.\n"
     ]
    }
   ],
   "source": [
    "import os\n",
    "import shutil\n",
    "from sklearn.model_selection import train_test_split\n",
    "\n",
    "def split_dataset(input_folder, train_folder, val_folder, test_folder, train_size=0.7, val_size=0.2, test_size=0.1, random_state=42):\n",
    "    # Buat folder train, val, dan test jika belum ada\n",
    "    for folder in [train_folder, val_folder, test_folder]:\n",
    "        if not os.path.exists(folder):\n",
    "            os.makedirs(folder)\n",
    "    \n",
    "    # Daftar nama kelas\n",
    "    classes = os.listdir(input_folder)\n",
    "    \n",
    "    # Loop untuk setiap kelas\n",
    "    for class_name in classes:\n",
    "        print(f\"Memproses kelas: {class_name}\")\n",
    "        class_folder_input = os.path.join(input_folder, class_name)\n",
    "        class_folder_train = os.path.join(train_folder, class_name)\n",
    "        class_folder_val = os.path.join(val_folder, class_name)\n",
    "        class_folder_test = os.path.join(test_folder, class_name)\n",
    "        \n",
    "        # Buat folder kelas di folder train, val, dan test jika belum ada\n",
    "        for folder in [class_folder_train, class_folder_val, class_folder_test]:\n",
    "            if not os.path.exists(folder):\n",
    "                os.makedirs(folder)\n",
    "        \n",
    "        # Daftar semua gambar di folder kelas input\n",
    "        images = os.listdir(class_folder_input)\n",
    "        \n",
    "        # Bagi dataset menjadi train dan temp (val + test)\n",
    "        train_images, temp_images = train_test_split(images, train_size=train_size, random_state=random_state)\n",
    "        \n",
    "        # Bagi dataset temp menjadi val dan test\n",
    "        relative_val_size = val_size / (val_size + test_size)\n",
    "        val_images, test_images = train_test_split(temp_images, test_size=1 - relative_val_size, random_state=random_state)\n",
    "        \n",
    "        # Pindahkan gambar ke folder train, val, dan test\n",
    "        for img_name in train_images:\n",
    "            src = os.path.join(class_folder_input, img_name)\n",
    "            dst = os.path.join(class_folder_train, img_name)\n",
    "            shutil.copyfile(src, dst)\n",
    "        \n",
    "        for img_name in val_images:\n",
    "            src = os.path.join(class_folder_input, img_name)\n",
    "            dst = os.path.join(class_folder_val, img_name)\n",
    "            shutil.copyfile(src, dst)\n",
    "        \n",
    "        for img_name in test_images:\n",
    "            src = os.path.join(class_folder_input, img_name)\n",
    "            dst = os.path.join(class_folder_test, img_name)\n",
    "            shutil.copyfile(src, dst)\n",
    "            \n",
    "        print(f\"Kelas {class_name} dibagi menjadi {len(train_images)} gambar untuk train, {len(val_images)} gambar untuk val, dan {len(test_images)} gambar untuk test.\")\n",
    "\n",
    "# Panggil fungsi untuk membagi dataset\n",
    "input_folder = \"./Dataset/Default\"\n",
    "train_folder = \"./Dataset/for CNN/train\"\n",
    "val_folder = \"./Dataset/for CNN/val\"\n",
    "test_folder = \"./Dataset/for CNN/test\"\n",
    "split_dataset(input_folder, train_folder, val_folder, test_folder, train_size=0.7, val_size=0.2, test_size=0.1, random_state=42)\n"
   ]
  },
  {
   "cell_type": "markdown",
   "metadata": {},
   "source": [
    "**5. Splitted KNN**"
   ]
  },
  {
   "cell_type": "code",
   "execution_count": 4,
   "metadata": {},
   "outputs": [
    {
     "name": "stdout",
     "output_type": "stream",
     "text": [
      "Classes: ['Busuk', 'Matang', 'Mentah', 'Menuju Matang', 'Terlalu Matang']\n",
      "Data train dan val telah dibagi dan disimpan di ./Dataset/for KNN/train dan ./Dataset/for KNN/val\n"
     ]
    }
   ],
   "source": [
    "import os\n",
    "import shutil\n",
    "from sklearn.model_selection import train_test_split\n",
    "\n",
    "# Path ke direktori utama yang berisi folder untuk setiap kelas\n",
    "main_dir = \"./Dataset/1. Resize/\"\n",
    "\n",
    "# List semua kelas\n",
    "classes = os.listdir(main_dir)\n",
    "print(\"Classes:\", classes)\n",
    "\n",
    "# Path untuk menyimpan data latih dan validasi\n",
    "train_dir = \"./Dataset/for KNN/train\"\n",
    "val_dir = \"./Dataset/for KNN/val\"\n",
    "\n",
    "# Buat folder train dan val jika belum ada\n",
    "if not os.path.exists(train_dir):\n",
    "    os.makedirs(train_dir)\n",
    "if not os.path.exists(val_dir):\n",
    "    os.makedirs(val_dir)\n",
    "\n",
    "# Loop untuk setiap kelas\n",
    "for class_name in classes:\n",
    "    class_dir = os.path.join(main_dir, class_name)\n",
    "    images = os.listdir(class_dir)\n",
    "    \n",
    "    # Bagi data menjadi train dan val\n",
    "    train_images, val_images = train_test_split(images, test_size=0.2, random_state=42)\n",
    "    \n",
    "    # Buat folder kelas di train dan val jika belum ada\n",
    "    train_class_dir = os.path.join(train_dir, class_name)\n",
    "    val_class_dir = os.path.join(val_dir, class_name)\n",
    "    \n",
    "    if not os.path.exists(train_class_dir):\n",
    "        os.makedirs(train_class_dir)\n",
    "    if not os.path.exists(val_class_dir):\n",
    "        os.makedirs(val_class_dir)\n",
    "    \n",
    "    # Copy gambar ke folder train\n",
    "    for img in train_images:\n",
    "        src = os.path.join(class_dir, img)\n",
    "        dst = os.path.join(train_class_dir, img)\n",
    "        shutil.copyfile(src, dst)\n",
    "    \n",
    "    # Copy gambar ke folder val\n",
    "    for img in val_images:\n",
    "        src = os.path.join(class_dir, img)\n",
    "        dst = os.path.join(val_class_dir, img)\n",
    "        shutil.copyfile(src, dst)\n",
    "\n",
    "print(\"Data train dan val telah dibagi dan disimpan di\", train_dir, \"dan\", val_dir)"
   ]
  },
  {
   "cell_type": "code",
   "execution_count": null,
   "metadata": {},
   "outputs": [],
   "source": []
  }
 ],
 "metadata": {
  "kernelspec": {
   "display_name": "Python 3",
   "language": "python",
   "name": "python3"
  },
  "language_info": {
   "codemirror_mode": {
    "name": "ipython",
    "version": 3
   },
   "file_extension": ".py",
   "mimetype": "text/x-python",
   "name": "python",
   "nbconvert_exporter": "python",
   "pygments_lexer": "ipython3",
   "version": "3.9.2"
  }
 },
 "nbformat": 4,
 "nbformat_minor": 2
}
